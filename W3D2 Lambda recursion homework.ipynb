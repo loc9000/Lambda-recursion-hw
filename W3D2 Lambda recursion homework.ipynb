{
 "cells": [
  {
   "cell_type": "markdown",
   "id": "51cb2c9d",
   "metadata": {},
   "source": [
    "# Exercises"
   ]
  },
  {
   "cell_type": "markdown",
   "id": "7f2c4500",
   "metadata": {},
   "source": [
    "### Exercise #1 <br>\n",
    "\n",
    "<p>Filter out all of the empty strings from the list below</p>"
   ]
  },
  {
   "cell_type": "code",
   "execution_count": 4,
   "id": "eca6944e",
   "metadata": {},
   "outputs": [
    {
     "data": {
      "text/plain": [
       "['Argentina', 'San Diego', 'Boston', 'New York']"
      ]
     },
     "execution_count": 4,
     "metadata": {},
     "output_type": "execute_result"
    }
   ],
   "source": [
    "places = [' ', 'Argentina', '  ', 'San Diego', '', '   ', '', 'Boston', 'New York']\n",
    "# = [Argentina, San Diego, Boston, New York]\n",
    "\n",
    "# HINT: LOOK FOR A STRING METHOD THAT REMOVES WHITESPACE\n",
    " \n",
    "# These are all one-liner Lambda functions \n",
    "\n",
    "places = list(filter(lambda city: city.strip(), places))\n",
    "places"
   ]
  },
  {
   "cell_type": "markdown",
   "id": "215e19cf",
   "metadata": {},
   "source": [
    "### Exercise #2 <br>\n",
    "<p>Write an anonymous function that sorts this list by the last name...<br><b>Hint: Use the \".sort()\" method and access the key\"</b></p>"
   ]
  },
  {
   "cell_type": "code",
   "execution_count": 5,
   "id": "d4f2f5df",
   "metadata": {},
   "outputs": [
    {
     "name": "stdout",
     "output_type": "stream",
     "text": [
      "['Victor aNisimov', 'David HassELHOFF', 'Connor Milliken', 'Andrew P. Garfield', 'Oprah wInfrey']\n"
     ]
    }
   ],
   "source": [
    "# .sort(key=)\n",
    "\n",
    "authors = [\"Connor Milliken\", \"Victor aNisimov\", \"Andrew P. Garfield\", \"David HassELHOFF\", \"Oprah wInfrey\"]\n",
    "\n",
    "# HINT: YOU'LL NEED TO CONVERT EACH PERSON'S NAME (A STRING) INTO A LIST IN ORDER TO GRAB THE LAST NAME BY\n",
    "# THE INDEX\n",
    "\n",
    "# sorted(iterable, key=key, reverse=reverse)\n",
    "\n",
    "# take the name string, split it into 2 items, lower case it, and sort(ed) the [1] index of last name. \n",
    "\n",
    "a = sorted(authors, key=lambda name: name.split(\" \")[1].lower())\n",
    "print(a)"
   ]
  },
  {
   "cell_type": "markdown",
   "id": "de3a09d4",
   "metadata": {},
   "source": [
    "### Exercise #3 <br>\n",
    "<p>Convert the list below from Celsius to Fahrenheit, using the map function with a lambda...</p>"
   ]
  },
  {
   "cell_type": "code",
   "execution_count": 6,
   "id": "0932d2c1",
   "metadata": {},
   "outputs": [
    {
     "data": {
      "text/plain": [
       "[89.6, 53.6, 111.2, 84.2]"
      ]
     },
     "execution_count": 6,
     "metadata": {},
     "output_type": "execute_result"
    }
   ],
   "source": [
    "places = [('Nassau', 32), ('Boston', 12), ('Los Angeles', 44), ('Miami', 29)]\n",
    "\n",
    "# HINT: KEEP IN MIND PEMDAS. USE THE CELCIUS - FAHRENHEIT CONVERSION\n",
    "# F = C * 9/5 + 32\n",
    "\n",
    "# map(function to be used, list to be used). Returns a map object, not a list. \n",
    "\n",
    "# c = [c[1] for c in places]\n",
    "# list(c) gives list of C degrees\n",
    "\n",
    "list(map(lambda x:x*(9/5)+32, [x[1] for x in places])) "
   ]
  },
  {
   "cell_type": "markdown",
   "id": "fc9c753c",
   "metadata": {},
   "source": [
    "### Exercise #4 <br>\n",
    "<p>Write a recursive function to perform the fibonacci sequence up to the number passed in.</p>"
   ]
  },
  {
   "cell_type": "code",
   "execution_count": null,
   "id": "87c96cf0",
   "metadata": {},
   "outputs": [],
   "source": [
    "# 0:0\n",
    "# 1:1\n",
    "# 2:1\n",
    "# 3:2\n",
    "# 4:3\n",
    "# 5:5\n",
    "# 6:8\n",
    "# 7:13"
   ]
  },
  {
   "cell_type": "code",
   "execution_count": 7,
   "id": "fda4e34f",
   "metadata": {},
   "outputs": [
    {
     "data": {
      "text/plain": [
       "13"
      ]
     },
     "execution_count": 7,
     "metadata": {},
     "output_type": "execute_result"
    }
   ],
   "source": [
    "def fib_seq(n):\n",
    "    # base case\n",
    "    if n <= 1:\n",
    "        return n\n",
    "    else:\n",
    "        return fib_seq(n-1) + fib_seq(n-2)\n",
    "    \n",
    "fib_seq(7)\n",
    "    "
   ]
  },
  {
   "cell_type": "code",
   "execution_count": null,
   "id": "4dcf5fbe",
   "metadata": {},
   "outputs": [],
   "source": []
  }
 ],
 "metadata": {
  "kernelspec": {
   "display_name": "Python 3 (ipykernel)",
   "language": "python",
   "name": "python3"
  },
  "language_info": {
   "codemirror_mode": {
    "name": "ipython",
    "version": 3
   },
   "file_extension": ".py",
   "mimetype": "text/x-python",
   "name": "python",
   "nbconvert_exporter": "python",
   "pygments_lexer": "ipython3",
   "version": "3.9.7"
  }
 },
 "nbformat": 4,
 "nbformat_minor": 5
}
